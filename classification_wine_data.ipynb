{
 "cells": [
  {
   "cell_type": "markdown",
   "metadata": {},
   "source": [
    "# ASI assessment"
   ]
  },
  {
   "cell_type": "markdown",
   "metadata": {},
   "source": [
    "# Q1: download the data and tests"
   ]
  },
  {
   "cell_type": "code",
   "execution_count": 2,
   "metadata": {
    "collapsed": true
   },
   "outputs": [],
   "source": [
    "%matplotlib inline\n",
    "import pandas as pd\n",
    "import numpy as np\n",
    "import matplotlib.pyplot as plt\n",
    "from scipy import linalg\n",
    "from numpy.linalg import inv\n",
    "import pylab"
   ]
  },
  {
   "cell_type": "code",
   "execution_count": 3,
   "metadata": {
    "collapsed": false
   },
   "outputs": [],
   "source": [
    "#download the datasets\n",
    "\n",
    "white_wine= pd.read_csv('winequality-white.csv', sep= ';')\n",
    "red_wine = pd.read_csv('winequality-red.csv', sep= ';')"
   ]
  },
  {
   "cell_type": "code",
   "execution_count": 3,
   "metadata": {
    "collapsed": false
   },
   "outputs": [
    {
     "name": "stdout",
     "output_type": "stream",
     "text": [
      "   fixed acidity  volatile acidity  citric acid  residual sugar  chlorides  \\\n",
      "0            7.0              0.27         0.36            20.7      0.045   \n",
      "1            6.3              0.30         0.34             1.6      0.049   \n",
      "\n",
      "   free sulfur dioxide  total sulfur dioxide  density   pH  sulphates  \\\n",
      "0                 45.0                 170.0    1.001  3.0       0.45   \n",
      "1                 14.0                 132.0    0.994  3.3       0.49   \n",
      "\n",
      "   alcohol  quality  \n",
      "0      8.8        6  \n",
      "1      9.5        6  \n",
      "      fixed acidity  volatile acidity  citric acid  residual sugar  chlorides  \\\n",
      "4896            5.5              0.29         0.30             1.1      0.022   \n",
      "4897            6.0              0.21         0.38             0.8      0.020   \n",
      "\n",
      "      free sulfur dioxide  total sulfur dioxide  density    pH  sulphates  \\\n",
      "4896                 20.0                 110.0  0.98869  3.34       0.38   \n",
      "4897                 22.0                  98.0  0.98941  3.26       0.32   \n",
      "\n",
      "      alcohol  quality  \n",
      "4896     12.8        7  \n",
      "4897     11.8        6  \n",
      "RangeIndex(start=0, stop=4898, step=1)\n",
      "Index([u'fixed acidity', u'volatile acidity', u'citric acid',\n",
      "       u'residual sugar', u'chlorides', u'free sulfur dioxide',\n",
      "       u'total sulfur dioxide', u'density', u'pH', u'sulphates', u'alcohol',\n",
      "       u'quality'],\n",
      "      dtype='object')\n"
     ]
    }
   ],
   "source": [
    "#tests to understand the data structure\n",
    "print(white_wine.head(2))\n",
    "print(white_wine.tail(2))\n",
    "\n",
    "#give the range of index\n",
    "print(white_wine.index)\n",
    "#give the names of the different columns\n",
    "print(white_wine.columns)\n"
   ]
  },
  {
   "cell_type": "code",
   "execution_count": 144,
   "metadata": {
    "collapsed": false
   },
   "outputs": [
    {
     "name": "stdout",
     "output_type": "stream",
     "text": [
      "MAX for White wine=\n",
      "9\n",
      "MIN for White wine=\n",
      "3\n"
     ]
    }
   ],
   "source": [
    "#Maximum and minimum Quality for white_wine\n",
    "print(\"MAX for White wine=\")\n",
    "maxQuality_W = white_wine['quality'].max()\n",
    "print(maxQuality_W)\n",
    "\n",
    "print(\"MIN for White wine=\")\n",
    "minQuality_W = white_wine['quality'].min()\n",
    "print(minQuality_W)"
   ]
  },
  {
   "cell_type": "code",
   "execution_count": 145,
   "metadata": {
    "collapsed": false
   },
   "outputs": [
    {
     "name": "stdout",
     "output_type": "stream",
     "text": [
      "MAX for Red wine=\n",
      "8\n",
      "MIN for Red wine=\n",
      "3\n"
     ]
    }
   ],
   "source": [
    "#Maximum and minimum Quality for red_wine\n",
    "print(\"MAX for Red wine=\")\n",
    "maxQuality_R = red_wine['quality'].max()\n",
    "print(maxQuality_R)\n",
    "\n",
    "print(\"MIN for Red wine=\")\n",
    "minQuality_R = red_wine['quality'].min()\n",
    "print(minQuality_R)"
   ]
  },
  {
   "cell_type": "markdown",
   "metadata": {},
   "source": [
    "# Q2: bar-plots"
   ]
  },
  {
   "cell_type": "markdown",
   "metadata": {},
   "source": [
    "# White Wine"
   ]
  },
  {
   "cell_type": "markdown",
   "metadata": {},
   "source": [
    "Bar plot of the number of examples with each target value for White wine dataset"
   ]
  },
  {
   "cell_type": "code",
   "execution_count": 4,
   "metadata": {
    "collapsed": false
   },
   "outputs": [
    {
     "name": "stdout",
     "output_type": "stream",
     "text": [
      "4     163\n",
      "8     175\n",
      "5    1457\n",
      "9       5\n",
      "6    2198\n",
      "3      20\n",
      "7     880\n",
      "dtype: int64\n"
     ]
    },
    {
     "data": {
      "text/plain": [
       "<matplotlib.text.Text at 0x8ff5470>"
      ]
     },
     "execution_count": 4,
     "metadata": {},
     "output_type": "execute_result"
    },
    {
     "data": {
      "image/png": "[encoded data removed]",
      "text/plain": [
       "<matplotlib.figure.Figure at 0x8e33400>"
      ]
     },
     "metadata": {},
     "output_type": "display_data"
    }
   ],
   "source": [
    "#count the number of elements for each target value (\"quality\"), \n",
    "#type of the return Value_Counts: series\n",
    "Value_Counts= pd.value_counts(white_wine['quality'].values, sort= False)\n",
    "print(Value_Counts)                              \n",
    "\n",
    "#extract the keys of Value_Counts\n",
    "Keys= Value_Counts.keys()\n",
    "l= len(Keys)\n",
    "\n",
    "#create lists for values and keys of the serie Value_Counts\n",
    "Values=[]\n",
    "Key_list=[]\n",
    "\n",
    "for key in Keys:\n",
    "    Values.append(Value_Counts[key])\n",
    "for key in Keys:\n",
    "    Key_list.append(key)\n",
    "    \n",
    "#create the bar-plot\n",
    "\n",
    "x_pos= Key_list\n",
    "y_pos= Values\n",
    "plt.bar(x_pos, y_pos, align='center')\n",
    "plt.xlabel('quality')\n",
    "plt.ylabel('number of example')\n",
    "plt.title('Number of example for each quality value for WHITE WINE')\n"
   ]
  },
  {
   "cell_type": "markdown",
   "metadata": {},
   "source": [
    "Here is another way to plot the number of elements for each quality grades, directly from a serie type, without using intermediqte lists:"
   ]
  },
  {
   "cell_type": "code",
   "execution_count": 146,
   "metadata": {
    "collapsed": false
   },
   "outputs": [
    {
     "name": "stdout",
     "output_type": "stream",
     "text": [
      "4     163\n",
      "8     175\n",
      "5    1457\n",
      "9       5\n",
      "6    2198\n",
      "3      20\n",
      "7     880\n",
      "Name: quality, dtype: int64\n"
     ]
    },
    {
     "data": {
      "text/plain": [
       "<matplotlib.axes._subplots.AxesSubplot at 0xd646160>"
      ]
     },
     "execution_count": 146,
     "metadata": {},
     "output_type": "execute_result"
    },
    {
     "data": {
      "image/png": "[encoded data removed]",
      "text/plain": [
       "<matplotlib.figure.Figure at 0xf7f4e10>"
      ]
     },
     "metadata": {},
     "output_type": "display_data"
    }
   ],
   "source": [
    "Value_Counts= pd.value_counts(white_wine['quality'], sort= False)\n",
    "print(Value_Counts)\n",
    "\n",
    "Value_Counts[4]\n",
    "lenght= len(Value_Counts)\n",
    "Value_Counts.plot.bar()"
   ]
  },
  {
   "cell_type": "markdown",
   "metadata": {},
   "source": [
    "# Red Wine"
   ]
  },
  {
   "cell_type": "markdown",
   "metadata": {},
   "source": [
    "Bar plot of the number of examples with each target value for Red wine dataset"
   ]
  },
  {
   "cell_type": "code",
   "execution_count": 6,
   "metadata": {
    "collapsed": false
   },
   "outputs": [
    {
     "name": "stdout",
     "output_type": "stream",
     "text": [
      "3     10\n",
      "4     53\n",
      "5    681\n",
      "6    638\n",
      "7    199\n",
      "8     18\n",
      "dtype: int64\n"
     ]
    },
    {
     "data": {
      "text/plain": [
       "<matplotlib.text.Text at 0xa083080>"
      ]
     },
     "execution_count": 6,
     "metadata": {},
     "output_type": "execute_result"
    },
    {
     "data": {
      "image/png": "[encoded data removed]",
      "text/plain": [
       "<matplotlib.figure.Figure at 0x9d66b38>"
      ]
     },
     "metadata": {},
     "output_type": "display_data"
    }
   ],
   "source": [
    "#count the number of elements for each target value (\"quality\"), \n",
    "#type of the return Value_Counts: series\n",
    "Value_Counts_R= pd.value_counts(red_wine['quality'].values, sort= False)\n",
    "print(Value_Counts_R)                              \n",
    "\n",
    "#extract the keys of Value_Counts_R\n",
    "Keys_R= Value_Counts_R.keys()\n",
    "l_R= len(Keys_R)\n",
    "\n",
    "#create lists for values and keys of the serie Value_Counts_R\n",
    "Values_R=[]\n",
    "Key_list_R=[]\n",
    "\n",
    "for key in Keys_R:\n",
    "    Values_R.append(Value_Counts_R[key])\n",
    "for key in Keys_R:\n",
    "    Key_list_R.append(key)\n",
    "#print(Key_list)\n",
    "#print(Values)\n",
    "\n",
    "#create the bar-plot\n",
    "\n",
    "x_pos_R= Key_list_R\n",
    "y_pos_R= Values_R\n",
    "plt.bar(x_pos_R, y_pos_R, align='center')\n",
    "plt.xlabel('quality')\n",
    "plt.ylabel('number of example')\n",
    "plt.title('Number of example for each quality value for RED WINE')"
   ]
  },
  {
   "cell_type": "markdown",
   "metadata": {},
   "source": [
    "# Q3) Comments on the distributions"
   ]
  },
  {
   "cell_type": "markdown",
   "metadata": {},
   "source": [
    "We can see that the quality of most of the wines is between 4 and 7 for the red wine, and between 4 and 8 for the white wine. But we don't have extreme positions: we only have few wines for of quality 3, 4 and 8, and none for quality 1, 2, 9 and 10. That's means that we don't have enought data for high quality wine and low quality wine for training . \n",
    "We will easily classify wine of quality 5 and 6, but our model won't be very precise for good and bad wines. "
   ]
  },
  {
   "cell_type": "markdown",
   "metadata": {},
   "source": [
    "# Q4.a) Linear regression: split the data"
   ]
  },
  {
   "cell_type": "code",
   "execution_count": 5,
   "metadata": {
    "collapsed": false
   },
   "outputs": [],
   "source": [
    "#split the RED WINE data into training and test sets (70% for training, 30% for testing)\n",
    "\n",
    "training_set= red_wine.sample(frac=0.7)\n",
    "test_set= red_wine.drop(training_set.index)\n"
   ]
  },
  {
   "cell_type": "markdown",
   "metadata": {},
   "source": [
    "# Q4.b) fit a linear regression to the training data"
   ]
  },
  {
   "cell_type": "code",
   "execution_count": 6,
   "metadata": {
    "collapsed": false
   },
   "outputs": [
    {
     "name": "stdout",
     "output_type": "stream",
     "text": [
      "THE MEAN SQUARRED ERROR IS  : \n",
      "[[ 0.43412395]]\n"
     ]
    }
   ],
   "source": [
    "##prepare the dataset:\n",
    "\n",
    "#convert the dataframe \"training_set\" and \"test_set\" into numpy arrays.\n",
    "Training_Array = training_set.as_matrix()\n",
    "Test_Array= test_set.as_matrix()\n",
    "\n",
    "#split the Training_Array in 2 arrays: the first 11 columns of features, and the last column of target. \n",
    "#the return of hsplits is a list of the 2 arrays\n",
    "Training_Array_splits = np.hsplit(Training_Array, [11])\n",
    "#this define the names of the 2 resulting arrays:\n",
    "Training_Array_features = Training_Array_splits[0]\n",
    "Training_Array_target = Training_Array_splits[1]\n",
    "\n",
    "#dimensions of Training_Array_features and _target\n",
    "#print(Training_Array_features.shape[0])\n",
    "#print(Training_Array_target.shape)\n",
    "\n",
    "#We do the same to split the Test set in feature and target arrays\n",
    "Test_Array_splits = np.hsplit(Test_Array, [11])\n",
    "Test_Array_features = Test_Array_splits[0]\n",
    "Test_Array_target = Test_Array_splits[1]\n",
    "\n",
    "#add a column of 1 to the dataset\n",
    "col_of_ones = np.ones((Training_Array_features.shape[0], 1))\n",
    "col_of_ones_test = np.ones((Test_Array_features.shape[0], 1))\n",
    "\n",
    "Training_Array_features_1= np.hstack((col_of_ones,Training_Array_features))\n",
    "Test_Array_features_1= np.hstack((col_of_ones_test,Test_Array_features))\n",
    "\n",
    "#convert datasets to matrix\n",
    "Training_Matrix_features = np.mat(Training_Array_features_1)\n",
    "Training_Matrix_target = np.mat(Training_Array_target)\n",
    "Test_Matrix_features = np.mat(Test_Array_features_1)\n",
    "Test_Matrix_target = np.mat(Test_Array_target)\n",
    "\n",
    "#transposed the training matrix\n",
    "Transposed_Training_Matrix_features = Training_Matrix_features.transpose()\n",
    "#Xt.X\n",
    "Product= np.dot(Transposed_Training_Matrix_features, Training_Matrix_features)\n",
    "#(Xt.X)^-1\n",
    "Inverse_of_Product= inv(Product)\n",
    "#(Xt.X)^-1.Xt\n",
    "Product2= np.dot(Inverse_of_Product, Transposed_Training_Matrix_features)\n",
    "\n",
    "#Compute the Weights:\n",
    "weights= np.dot(Product2, Training_Matrix_target)\n",
    "\n",
    "#Compute the predicted target: Weights x test_set\n",
    "Predicted_target= np.matrix.dot(Test_Matrix_features, weights)\n",
    "\n",
    "\n",
    "#compute the error between the true targets and the predicted target\n",
    "#values are not round\n",
    "error= Test_Matrix_target-Predicted_target\n",
    "\n",
    "#compute the Mean Squarred Error:\n",
    "transposed_error= error.transpose()\n",
    "error_pas_normalise= np.dot(transposed_error, error)\n",
    "lenght_test= len(Test_Matrix_features)\n",
    "mse= error_pas_normalise/lenght_test\n",
    "\n",
    "\n",
    "print('THE MEAN SQUARRED ERROR IS  : ')\n",
    "print(mse)"
   ]
  },
  {
   "cell_type": "code",
   "execution_count": 20,
   "metadata": {
    "collapsed": false
   },
   "outputs": [
    {
     "name": "stdout",
     "output_type": "stream",
     "text": [
      "THE MEAN SQUARRED ERROR WITH ROUNDED TARGETS IS  : \n",
      "[[ 0.51666667]]\n"
     ]
    }
   ],
   "source": [
    "#roud the predicted values\n",
    "arounded_array= np.around(Predicted_target_as_array)\n",
    "#compute the error between the true targets and the predicted target\n",
    "#values are not round\n",
    "error= Test_Matrix_target-arounded_array\n",
    "\n",
    "#compute the Mean Squarred Error:\n",
    "transposed_error= error.transpose()\n",
    "error_pas_normalise= np.dot(transposed_error, error)\n",
    "lenght_test= len(Test_Matrix_features)\n",
    "mse= error_pas_normalise/lenght_test\n",
    "\n",
    "\n",
    "print('THE MEAN SQUARRED ERROR WITH ROUNDED TARGETS IS  : ')\n",
    "print(mse)"
   ]
  },
  {
   "cell_type": "markdown",
   "metadata": {},
   "source": [
    "The MSE is higher with rounded values for the predicted targets. "
   ]
  },
  {
   "cell_type": "markdown",
   "metadata": {},
   "source": [
    "# 4d) Scatter plot: predictions vs true targets"
   ]
  },
  {
   "cell_type": "markdown",
   "metadata": {},
   "source": [
    "<b>Plot of the difference between the predicted quality and the true quality of the test set</b>"
   ]
  },
  {
   "cell_type": "code",
   "execution_count": 7,
   "metadata": {
    "collapsed": false
   },
   "outputs": [
    {
     "data": {
      "image/png": "[encoded data removed]",
      "text/plain": [
       "<matplotlib.figure.Figure at 0x8e23dd8>"
      ]
     },
     "metadata": {},
     "output_type": "display_data"
    }
   ],
   "source": [
    "plt.plot(range(lenght_test), Test_Matrix_target-Predicted_target , c='red')\n",
    "#plt.plot(range(lenght_test), Predicted_target, c= 'yellow')\n",
    "plt.xlabel('data')\n",
    "plt.ylabel('quality')\n",
    "plt.title('Predicted quality(yellow) VS True quality (red) ')\n",
    "\n",
    "Predicted_target_as_array= np.asarray(Predicted_target)\n",
    "\n"
   ]
  },
  {
   "cell_type": "code",
   "execution_count": 154,
   "metadata": {
    "collapsed": false
   },
   "outputs": [
    {
     "data": {
      "text/plain": [
       "<matplotlib.text.Text at 0xbf1f320>"
      ]
     },
     "execution_count": 154,
     "metadata": {},
     "output_type": "execute_result"
    },
    {
     "data": {
      "image/png": "[encoded data removed]",
      "text/plain": [
       "<matplotlib.figure.Figure at 0xc688518>"
      ]
     },
     "metadata": {},
     "output_type": "display_data"
    }
   ],
   "source": [
    "plt.scatter(range(lenght_test), Test_Array_target,c='red' )\n",
    "plt.scatter(range(lenght_test), Predicted_target_as_array,c='yellow' )\n",
    "plt.xlabel('data')\n",
    "plt.ylabel('quality')\n",
    "plt.title('Predicted quality(yellow) VS True quality (red) ')"
   ]
  },
  {
   "cell_type": "markdown",
   "metadata": {},
   "source": [
    "we can see that we have to \"round\" the predicted target to obtain a better view of what is happening, moreover, the targets values have to been integer between 0 and 10."
   ]
  },
  {
   "cell_type": "code",
   "execution_count": 19,
   "metadata": {
    "collapsed": false
   },
   "outputs": [
    {
     "data": {
      "text/plain": [
       "<matplotlib.text.Text at 0xbef3978>"
      ]
     },
     "execution_count": 19,
     "metadata": {},
     "output_type": "execute_result"
    },
    {
     "data": {
      "image/png": "[encoded data removed]",
      "text/plain": [
       "<matplotlib.figure.Figure at 0xaaac390>"
      ]
     },
     "metadata": {},
     "output_type": "display_data"
    }
   ],
   "source": [
    "#plot the diffenrence between the round predicted values and the target values\n",
    "plt.bar(range(lenght_test), abs(Test_Array_target-arounded_array))\n",
    "plt.xlabel('data')\n",
    "plt.ylabel('quality')\n",
    "plt.title('Predicted quality(yellow) VS True quality (red) ')"
   ]
  },
  {
   "cell_type": "markdown",
   "metadata": {},
   "source": [
    "This plot show that mainly, the error on the wine quality is of only 1 degree of quality. But those errors are numerous. Moreover, the MSE with rounded values is about 51%, meaning that 50% of the time, the model make an error of 1 degree of quality or 2, over 6 possible values (between 3 and 8).  Wich can be actually considered as a good model. "
   ]
  },
  {
   "cell_type": "markdown",
   "metadata": {},
   "source": [
    "# Q4.d) Suggest a benchmark "
   ]
  },
  {
   "cell_type": "markdown",
   "metadata": {},
   "source": [
    "we could used a treshold, that the MSE has to fit , if the calculated MSE is under this threshold, the model is good, if not, the model is not."
   ]
  },
  {
   "cell_type": "code",
   "execution_count": 22,
   "metadata": {
    "collapsed": false
   },
   "outputs": [],
   "source": [
    "#transform the MSE into a float\n",
    "mse_array=np.asarray(mse)\n",
    "value = float(mse_array[0][0])"
   ]
  },
  {
   "cell_type": "markdown",
   "metadata": {},
   "source": [
    "To decide if the MSE value is good I chose to compare it with the error value obtain by doing the difference between the mean of all the target of the test set, and the targets themselves. "
   ]
  },
  {
   "cell_type": "code",
   "execution_count": 24,
   "metadata": {
    "collapsed": false
   },
   "outputs": [
    {
     "name": "stdout",
     "output_type": "stream",
     "text": [
      "the threshold is : 0.688567708333\n"
     ]
    }
   ],
   "source": [
    "#implement the threshold computation: we take the mean of every target\n",
    "\n",
    "sum_test_target= np.sum(Test_Matrix_target)\n",
    "mean_Test_matrix_target=sum_test_target/(len(Test_Matrix_target))\n",
    "#print(\"mean de test matrix target :\" + str(mean_Test_matrix_target))\n",
    "\n",
    "error_mean= abs(Test_Matrix_target - mean_Test_matrix_target)\n",
    "\n",
    "sum_error_mean= np.sum(error_mean)\n",
    "#print(\"error:\" + str(sum_error_mean))\n",
    "\n",
    "threshold_mse_0= sum_error_mean/len(error_mean)\n",
    "print(\"the threshold is : \" + str(threshold_mse_0))"
   ]
  },
  {
   "cell_type": "markdown",
   "metadata": {},
   "source": [
    "We obtain a certain threshold (around 0,6), and we compare it to the MSE value. "
   ]
  },
  {
   "cell_type": "code",
   "execution_count": 26,
   "metadata": {
    "collapsed": false
   },
   "outputs": [
    {
     "name": "stdout",
     "output_type": "stream",
     "text": [
      "the model is good\n"
     ]
    }
   ],
   "source": [
    "#### implement a threshold to check if the MSE is good\n",
    "if value < threshold_mse_0:\n",
    "    print('the model is good')\n",
    "else:\n",
    "    print('the model is NOT good')"
   ]
  },
  {
   "cell_type": "markdown",
   "metadata": {},
   "source": [
    "The threshold obtain is about 0,7 wich is significantly higher than the MSE obtain with the linear regression, we can say that our model is good, and it's worth to implement it. "
   ]
  },
  {
   "cell_type": "markdown",
   "metadata": {},
   "source": [
    "# Q5) Regularized linear regression"
   ]
  },
  {
   "cell_type": "code",
   "execution_count": 32,
   "metadata": {
    "collapsed": false
   },
   "outputs": [
    {
     "name": "stdout",
     "output_type": "stream",
     "text": [
      "length of MSE_LIST : 500\n"
     ]
    }
   ],
   "source": [
    "#uses the products computed for the previous linear regression\n",
    "identity_matrix=np.identity(Product.shape[0])\n",
    "\n",
    "lambda_param = 1\n",
    "mse_list=[]\n",
    "\n",
    "for lambda_param in np.arange(0,5, 0.01):\n",
    "    \n",
    "    intermediate_sum= (Product + lambda_param*identity_matrix )\n",
    "    Inverse_of_intermediate_sum= inv(intermediate_sum)\n",
    "    Product_3= np.dot(Inverse_of_intermediate_sum, Transposed_Training_Matrix_features)\n",
    "    weights_regularized= np.dot(Product_3, Training_Matrix_target)\n",
    "    \n",
    "    Predicted_target_regularized= np.matrix.dot(Test_Matrix_features, weights_regularized)\n",
    "    \n",
    "    error_reg= Test_Matrix_target-Predicted_target_regularized\n",
    "    transposed_error_reg= error_reg.transpose()\n",
    "    error_pas_normalise_reg= np.dot(transposed_error_reg, error_reg)\n",
    "    lenght_test= len(Test_Matrix_features)\n",
    "    \n",
    "    mse_regularized= error_pas_normalise_reg/lenght_test\n",
    "    \n",
    "    mse_list.append(mse_regularized)\n",
    "\n",
    "print(\"length of MSE_LIST : \" + str(len(mse_list)))"
   ]
  },
  {
   "cell_type": "code",
   "execution_count": 33,
   "metadata": {
    "collapsed": false
   },
   "outputs": [],
   "source": [
    "#create a list with all the value of mse for each lambda value\n",
    "\n",
    "mse_list_value2= []\n",
    "for i in range(len(mse_list)):\n",
    "    mse_list_reg=np.asarray(mse_list[i])\n",
    "    value2 = float(mse_list_reg[0][0])\n",
    "    mse_list_value2.append(value2)\n",
    "    "
   ]
  },
  {
   "cell_type": "code",
   "execution_count": 35,
   "metadata": {
    "collapsed": false
   },
   "outputs": [
    {
     "data": {
      "text/plain": [
       "<matplotlib.text.Text at 0xd9c9b38>"
      ]
     },
     "execution_count": 35,
     "metadata": {},
     "output_type": "execute_result"
    },
    {
     "data": {
      "image/png": "[encoded data removed]",
      "text/plain": [
       "<matplotlib.figure.Figure at 0xd757e48>"
      ]
     },
     "metadata": {},
     "output_type": "display_data"
    }
   ],
   "source": [
    "plt.plot(np.arange(0, 5, 0.01), mse_list_value2)\n",
    "plt.xlabel('lambda')\n",
    "plt.ylabel('mse')\n",
    "plt.title('MSE regarding different values of lambda parameter')"
   ]
  },
  {
   "cell_type": "markdown",
   "metadata": {},
   "source": [
    "it' s not a good way to determine the value of lambda: indeed hta minimum seems to be for the value 0, so for a simple linear regression. "
   ]
  },
  {
   "cell_type": "code",
   "execution_count": 36,
   "metadata": {
    "collapsed": false
   },
   "outputs": [
    {
     "data": {
      "text/plain": [
       "<matplotlib.text.Text at 0xde3a940>"
      ]
     },
     "execution_count": 36,
     "metadata": {},
     "output_type": "execute_result"
    },
    {
     "data": {
      "image/png": "[encoded data removed]",
      "text/plain": [
       "<matplotlib.figure.Figure at 0xda12438>"
      ]
     },
     "metadata": {},
     "output_type": "display_data"
    }
   ],
   "source": [
    "#plot of MSE and ln(lambda)\n",
    "plt.plot(np.log2(np.arange(0, 5, 0.01)), mse_list_value2)\n",
    "plt.xlabel('ln(lambda)')\n",
    "plt.ylabel('mse')\n",
    "plt.title('MSE regarding different values of ln(lambda)')"
   ]
  },
  {
   "cell_type": "code",
   "execution_count": 49,
   "metadata": {
    "collapsed": false
   },
   "outputs": [
    {
     "name": "stdout",
     "output_type": "stream",
     "text": [
      "lambda parameter for MINIMUM MSE is : 1.54\n"
     ]
    }
   ],
   "source": [
    "#give the value of lambda parameter for the minimum MSE\n",
    "lambda_index=sorted(enumerate(mse_list_value2), key=lambda x: x[1])[0]\n",
    "lambda_value=[np.arange(0, 5, 0.01)]\n",
    "lambda_for_min_MSE= lambda_value[0][lambda_index[0]]\n",
    "print(\"lambda parameter for MINIMUM MSE is : \" + str(lambda_for_min_MSE))"
   ]
  },
  {
   "cell_type": "markdown",
   "metadata": {},
   "source": [
    "This is not a good way to determine the value of lambda, indeed: we are using the test set to find the optimal value of lambda while the test set should only be use to test our model, not determine it. "
   ]
  },
  {
   "cell_type": "markdown",
   "metadata": {},
   "source": [
    "<b><u> Cross Validation to determine the value of the regularization parameter</u></b>"
   ]
  },
  {
   "cell_type": "code",
   "execution_count": 51,
   "metadata": {
    "collapsed": false
   },
   "outputs": [
    {
     "name": "stdout",
     "output_type": "stream",
     "text": [
      "(1599L, 13L)\n"
     ]
    }
   ],
   "source": [
    "#add column of 1 to Red_Wine\n",
    "col_of_ones_wine = np.ones((red_wine.shape[0], 1))\n",
    "new_red_wine= np.hstack((col_of_ones_wine,red_wine))\n",
    "print(new_red_wine.shape)"
   ]
  },
  {
   "cell_type": "code",
   "execution_count": 53,
   "metadata": {
    "collapsed": false
   },
   "outputs": [],
   "source": [
    "#create a list 10 folds of random indices\n",
    "n= len(red_wine)\n",
    "K=n/10\n",
    "indices=[]\n",
    "rest=red_wine\n",
    "for i in range(10):\n",
    "    fold_i=[]\n",
    "    fold_i=rest.sample(K)\n",
    "    rest=rest.drop(fold_i.index)\n",
    "    indices.append(fold_i.index)\n",
    "    \n",
    "list_of_list=[]\n",
    "for m in range(10):\n",
    "    list_indice=[]\n",
    "    for j in range(len(indices[m])):\n",
    "        list_indice.append(indices[m][j])\n",
    "    list_of_list.append(list_indice)\n",
    "\n"
   ]
  },
  {
   "cell_type": "code",
   "execution_count": 56,
   "metadata": {
    "collapsed": false
   },
   "outputs": [],
   "source": [
    "#convert the dataset to a matrix\n",
    "red_wine_matrix= red_wine.as_matrix()"
   ]
  },
  {
   "cell_type": "code",
   "execution_count": 60,
   "metadata": {
    "collapsed": false
   },
   "outputs": [],
   "source": [
    "fold_0= [new_red_wine[i,:] for i in list_of_list[0]]\n",
    "fold_1= [new_red_wine[i,:] for i in list_of_list[1]]\n",
    "fold_2= [new_red_wine[i,:] for i in list_of_list[2]]\n",
    "fold_3= [new_red_wine[i,:] for i in list_of_list[3]]\n",
    "fold_4= [new_red_wine[i,:] for i in list_of_list[4]]\n",
    "fold_5= [new_red_wine[i,:] for i in list_of_list[5]]\n",
    "fold_6= [new_red_wine[i,:] for i in list_of_list[6]]\n",
    "fold_7= [new_red_wine[i,:] for i in list_of_list[7]]\n",
    "fold_8= [new_red_wine[i,:] for i in list_of_list[8]]\n",
    "fold_9= [new_red_wine[i,:] for i in list_of_list[9]]\n",
    "\n",
    "#create a list of 10 elements with the data splited in 10 folds, using the random indices\n",
    "list_des_fold=[]\n",
    "for g in range(10):\n",
    "    list_des_fold.append([new_red_wine[i,:] for i in list_of_list[g]])"
   ]
  },
  {
   "cell_type": "code",
   "execution_count": 63,
   "metadata": {
    "collapsed": false
   },
   "outputs": [
    {
     "name": "stdout",
     "output_type": "stream",
     "text": [
      "round de la CV number: 0\n",
      "round de la CV number: 1\n",
      "round de la CV number: 2\n",
      "round de la CV number: 3\n",
      "round de la CV number: 4\n",
      "round de la CV number: 5\n",
      "round de la CV number: 6\n",
      "round de la CV number: 7\n",
      "round de la CV number: 8\n",
      "round de la CV number: 9\n"
     ]
    }
   ],
   "source": [
    "#test of the cross-validation \n",
    "for m in range(10):\n",
    "    X_test=[]\n",
    "    X_test= list_des_fold[m]\n",
    "    X_training=[]\n",
    "    #print(X_test[0])\n",
    "    #print(red_wine_matrix[620])\n",
    "\n",
    "    for n in range(10):\n",
    "        if n!=m:\n",
    "            for data in list_des_fold[n]:\n",
    "                X_training.append(data)\n",
    "        \n",
    "    print(\"round de la CV number: \" + str(m))\n"
   ]
  },
  {
   "cell_type": "code",
   "execution_count": 148,
   "metadata": {
    "collapsed": true
   },
   "outputs": [],
   "source": [
    "#define the function \"Regression\", executing the regularized linear regression, \n",
    "#returning a list of MSE for each value of lambda\n",
    "def Regression(X_training, lambda_param, X_test):\n",
    "            \n",
    "    #X_training_good= [X_training[i] for i in range(len(X_training))]\n",
    "    #for i in range(len(X_training))\n",
    "    X_train_mat= np.asarray(X_training[:][:12])\n",
    "    X_train_mat_target= np.asarray(X_training[:][-1])\n",
    "    X_test_mat= np.asarray(X_test[:][:12])\n",
    "    X_test_mat_target= np.asarray(X_test[:][-1])\n",
    "    transposed_training= X_train_mat.transpose()\n",
    "    product_X= np.dot(transposed_training, X_train_mat)\n",
    "    #print(\"prduct:\" + str(product_X.shape))\n",
    "    identity_matrix=np.identity(product_X.shape[0])\n",
    "    intermediate_sum= (product_X + lambda_param*identity_matrix )\n",
    "    Inverse_of_intermediate_sum= inv(intermediate_sum)\n",
    "    #print(\"intermediate um:\" + str(intermediate_sum.shape))\n",
    "    Product_3= np.dot(Inverse_of_intermediate_sum, transposed_training)\n",
    "    #print(\"prduct3:\" + str(Product_3.shape))\n",
    "    weights_regularized_fct= np.dot(Product_3.transpose(), X_train_mat_target)\n",
    "    #print(\"weighht:\" + str(weights_regularized_fct.shape))\n",
    "    Predicted_test_reg= np.matrix.dot(X_test_mat.transpose(), weights_regularized_fct)\n",
    "    #print(\"predicted:\" + str(Predicted_test_reg.shape))\n",
    "    \n",
    "    error_reg_fct= X_test_mat_target - Predicted_test_reg\n",
    "    transposed_error_reg_fct= error_reg_fct.transpose()\n",
    "    error_pas_normalise_reg_fct= np.dot(transposed_error_reg_fct, error_reg_fct)\n",
    "    \n",
    "    mse_regularized_fct= error_pas_normalise_reg_fct/len(error_pas_normalise_reg)\n",
    "    mse_list_fct.append(mse_regularized_fct/1000)\n",
    "    #print(\"MSE: \" + str(mse_regularized_fct))\n",
    "    "
   ]
  },
  {
   "cell_type": "markdown",
   "metadata": {},
   "source": [
    "<b><u>10-fold cross validation to determine the value of the regularization parameter</u></b>"
   ]
  },
  {
   "cell_type": "code",
   "execution_count": 149,
   "metadata": {
    "collapsed": false
   },
   "outputs": [],
   "source": [
    "mean_regression=[]\n",
    "for l in np.arange(0.01,5, 0.01):  \n",
    "    mse_list_fct=[]\n",
    "    for m in range(10):\n",
    "        X_test=[]\n",
    "        X_test= list_des_fold[m]\n",
    "        X_training=[]\n",
    "        \n",
    "        for n in range(10):\n",
    "            if n!=m:\n",
    "                for data in list_des_fold[n]:\n",
    "                    X_training.append(data)\n",
    "       \n",
    "        Regression(X_training, l, X_test)\n",
    "        #print(len(X_training_good))\n",
    "        #print(X_training_good)\n",
    "        \n",
    "    #print(\"pour lambda= \" + str(l)+ \"le return est \" + str(mse_list_fct))\n",
    "    mean_de_mse_list= np.mean(mse_list_fct)\n",
    "    #print(mean_de_mse_list)\n",
    "\n",
    "    mean_regression.append(mean_de_mse_list)\n",
    "\n",
    "#print(mean_regression)"
   ]
  },
  {
   "cell_type": "code",
   "execution_count": 150,
   "metadata": {
    "collapsed": false
   },
   "outputs": [
    {
     "data": {
      "text/plain": [
       "<matplotlib.text.Text at 0x12013cf8>"
      ]
     },
     "execution_count": 150,
     "metadata": {},
     "output_type": "execute_result"
    },
    {
     "data": {
      "image/png": "[encoded data removed]",
      "text/plain": [
       "<matplotlib.figure.Figure at 0xd3b75f8>"
      ]
     },
     "metadata": {},
     "output_type": "display_data"
    }
   ],
   "source": [
    "\n",
    "plt.plot(np.arange(0.01, 5, 0.01), mean_regression)\n",
    "plt.xlabel('lambda')\n",
    "plt.ylabel('mse')\n",
    "plt.title('MSE regarding different values of lambda parameter')"
   ]
  },
  {
   "cell_type": "code",
   "execution_count": 151,
   "metadata": {
    "collapsed": false
   },
   "outputs": [
    {
     "name": "stdout",
     "output_type": "stream",
     "text": [
      "the optimal value for lambda is 0.02\n",
      "the performance with optimal lambda is 0.492237569653\n"
     ]
    }
   ],
   "source": [
    "\n",
    "result_CV= sorted(enumerate(mean_regression), key=lambda x: x[1])[0]\n",
    "lambda_value= [np.arange(0.01, 5, 0.01)]\n",
    "#print(ty\n",
    "#pe(lambda_value))\n",
    "#print(lambda_value[0][1])\n",
    "print(\"the optimal value for lambda is \" + str(lambda_value[0][1]))\n",
    "\n",
    "print(\"the performance with optimal lambda is \" + str(result_CV[1]))"
   ]
  },
  {
   "cell_type": "markdown",
   "metadata": {},
   "source": [
    "The value of the MSE with the regularized linear regression is almost the same as the MSE obtained with the standard linear regression. The performance are almost the same between the 2 methods. "
   ]
  },
  {
   "cell_type": "markdown",
   "metadata": {},
   "source": [
    "# Q6: CLASSIFICATION"
   ]
  },
  {
   "cell_type": "markdown",
   "metadata": {},
   "source": [
    "The limitation of using regression for this type of task is that we do not obtain integer, we have to round the predicted target and then obtain a bigger error , or transform the targets into continuous values, which won't fit with the original dataset. \n",
    "With classification we can be satisfied with discreete values and labels. "
   ]
  },
  {
   "cell_type": "markdown",
   "metadata": {},
   "source": [
    "The positive feature of KNN is that there is no training phase. The negative  one is that with K too big, small classes will tend to disappeare. "
   ]
  },
  {
   "cell_type": "markdown",
   "metadata": {},
   "source": [
    "I remarked that there was a lot of double lines in the dataset, which can skew the execution of the KNN algorithm. indeed, the alogirthm looks for the K nearest neighbors, if they are all the same , the result won't be as precise as expected.  "
   ]
  },
  {
   "cell_type": "code",
   "execution_count": 158,
   "metadata": {
    "collapsed": true
   },
   "outputs": [],
   "source": [
    "import math\n",
    "def euclidieanDistance(point1, point2, length_point):\n",
    "    distance=0\n",
    "    for x in range(length_point):\n",
    "        distance += pow((point1[x] - point2[x]), 2)\n",
    "    return math.sqrt(distance)\n",
    "\n"
   ]
  },
  {
   "cell_type": "code",
   "execution_count": 159,
   "metadata": {
    "collapsed": false
   },
   "outputs": [
    {
     "data": {
      "text/plain": [
       "100.84228789760027"
      ]
     },
     "execution_count": 159,
     "metadata": {},
     "output_type": "execute_result"
    }
   ],
   "source": [
    "euclidieanDistance(X_test[0], X_test[30], 11)"
   ]
  },
  {
   "cell_type": "markdown",
   "metadata": {},
   "source": [
    "This function gets the neighbors of a point. "
   ]
  },
  {
   "cell_type": "code",
   "execution_count": 160,
   "metadata": {
    "collapsed": true
   },
   "outputs": [],
   "source": [
    "import operator\n",
    "def getNeighbors(trainingSet, tested_point, K):\n",
    "    distances=[]\n",
    "    length= len(tested_point)-1\n",
    "    for x in range(len(trainingSet)):\n",
    "        dist= euclidieanDistance(tested_point, trainingSet[x], length)\n",
    "        distances.append((trainingSet[x], dist))\n",
    "    #distances.sort(key=operator.itemgetter(1))\n",
    "    sorted(distances, key=lambda x: x[1])\n",
    "    neighbors=[]\n",
    "    for x in range(K):\n",
    "        neighbors.append(distances[x][0])\n",
    "    return neighbors\n"
   ]
  },
  {
   "cell_type": "markdown",
   "metadata": {},
   "source": [
    "This function return the most common classes among the neighbors"
   ]
  },
  {
   "cell_type": "code",
   "execution_count": 161,
   "metadata": {
    "collapsed": true
   },
   "outputs": [],
   "source": [
    "from collections import Counter\n",
    "\n",
    "def get_majority_vote(neighbors):\n",
    "    classes = [neighbor[11] for neighbor in neighbors]\n",
    "    count= Counter(classes)\n",
    "    return count.most_common()[0][0]"
   ]
  },
  {
   "cell_type": "code",
   "execution_count": 162,
   "metadata": {
    "collapsed": true
   },
   "outputs": [],
   "source": [
    "def KNNfunction(TestSet, TrainingSet,K):\n",
    "    predictions=[]\n",
    "    \n",
    "    for x in range(len(TestSet)):\n",
    "        neighbors = getNeighbors(TrainingSet, TestSet[x], K)\n",
    "        majority_vote= get_majority_vote(neighbors)\n",
    "        predictions.append(majority_vote)\n",
    "        #print(\"Predicted label = \" + str(majority_vote))\n",
    "        #print(\"Actual label = \" + str(Test_Array[x][11]))\n",
    "    score_list= []\n",
    "    for x in range(len(TestSet)):\n",
    "        if predictions[x]== TestSet[x][11]:\n",
    "            score_list.append(1)\n",
    "        else:\n",
    "            score_list.append(0)\n",
    "    performance= np.mean(score_list)\n",
    "    knn_fct_return.append(performance)\n",
    "    #print(str(performance*100)+ \"%\")"
   ]
  },
  {
   "cell_type": "code",
   "execution_count": 163,
   "metadata": {
    "collapsed": false
   },
   "outputs": [
    {
     "name": "stdout",
     "output_type": "stream",
     "text": [
      "pour K= 1le return est [0.0, 0.0, 0.0, 0.0, 0.0, 0.0, 0.0, 0.0, 0.0, 0.012578616352201259]\n",
      "0.00125786163522\n",
      "pour K= 2le return est [0.0, 0.025157232704402517, 0.012578616352201259, 0.031446540880503145, 0.0440251572327044, 0.050314465408805034, 0.031446540880503145, 0.025157232704402517, 0.031446540880503145, 0.050314465408805034]\n",
      "0.0301886792453\n",
      "pour K= 3le return est [0.0, 0.037735849056603772, 0.012578616352201259, 0.031446540880503145, 0.031446540880503145, 0.031446540880503145, 0.018867924528301886, 0.031446540880503145, 0.0440251572327044, 0.025157232704402517]\n",
      "0.0264150943396\n",
      "pour K= 4le return est [0.0, 0.037735849056603772, 0.012578616352201259, 0.031446540880503145, 0.031446540880503145, 0.031446540880503145, 0.018867924528301886, 0.031446540880503145, 0.0440251572327044, 0.025157232704402517]\n",
      "0.0264150943396\n",
      "pour K= 5le return est [0.0, 0.037735849056603772, 0.012578616352201259, 0.031446540880503145, 0.031446540880503145, 0.031446540880503145, 0.018867924528301886, 0.031446540880503145, 0.0440251572327044, 0.025157232704402517]\n",
      "0.0264150943396\n",
      "pour K= 6le return est [0.0440251572327044, 0.031446540880503145, 0.012578616352201259, 0.025157232704402517, 0.018867924528301886, 0.025157232704402517, 0.0062893081761006293, 0.012578616352201259, 0.031446540880503145, 0.012578616352201259]\n",
      "0.0220125786164\n",
      "pour K= 7le return est [0.0440251572327044, 0.031446540880503145, 0.012578616352201259, 0.025157232704402517, 0.018867924528301886, 0.025157232704402517, 0.0062893081761006293, 0.012578616352201259, 0.031446540880503145, 0.012578616352201259]\n",
      "0.0220125786164\n",
      "pour K= 8le return est [0.0440251572327044, 0.012578616352201259, 0.012578616352201259, 0.0062893081761006293, 0.0062893081761006293, 0.0, 0.0062893081761006293, 0.012578616352201259, 0.0, 0.018867924528301886]\n",
      "0.0119496855346\n",
      "pour K= 9le return est [0.0440251572327044, 0.0062893081761006293, 0.037735849056603772, 0.012578616352201259, 0.012578616352201259, 0.018867924528301886, 0.025157232704402517, 0.025157232704402517, 0.031446540880503145, 0.012578616352201259]\n",
      "0.022641509434\n",
      "pour K= 10le return est [0.0440251572327044, 0.0062893081761006293, 0.037735849056603772, 0.012578616352201259, 0.012578616352201259, 0.018867924528301886, 0.025157232704402517, 0.025157232704402517, 0.031446540880503145, 0.012578616352201259]\n",
      "0.022641509434\n",
      "pour K= 11le return est [0.0440251572327044, 0.031446540880503145, 0.018867924528301886, 0.018867924528301886, 0.037735849056603772, 0.018867924528301886, 0.012578616352201259, 0.0062893081761006293, 0.0062893081761006293, 0.012578616352201259]\n",
      "0.0207547169811\n",
      "pour K= 12le return est [0.025157232704402517, 0.031446540880503145, 0.018867924528301886, 0.018867924528301886, 0.037735849056603772, 0.018867924528301886, 0.012578616352201259, 0.0062893081761006293, 0.0062893081761006293, 0.012578616352201259]\n",
      "0.0188679245283\n",
      "pour K= 13le return est [0.025157232704402517, 0.031446540880503145, 0.018867924528301886, 0.018867924528301886, 0.037735849056603772, 0.018867924528301886, 0.012578616352201259, 0.0062893081761006293, 0.0062893081761006293, 0.012578616352201259]\n",
      "0.0188679245283\n",
      "pour K= 14le return est [0.025157232704402517, 0.031446540880503145, 0.018867924528301886, 0.018867924528301886, 0.037735849056603772, 0.018867924528301886, 0.012578616352201259, 0.0062893081761006293, 0.0062893081761006293, 0.012578616352201259]\n",
      "0.0188679245283\n"
     ]
    }
   ],
   "source": [
    "mean_knn=[]\n",
    "for K in range(1,15,1):  \n",
    "    knn_fct_return=[]\n",
    "    for m in range(10):\n",
    "        X_test=[]\n",
    "        X_test= list_des_fold[m]\n",
    "        X_training=[]\n",
    "        #print(X_test[0])\n",
    "        #print(red_wine_matrix[620])\n",
    "\n",
    "        for n in range(10):\n",
    "            if n!=m:\n",
    "                for data in list_des_fold[n]:\n",
    "                    X_training.append(data)\n",
    "\n",
    "        KNNfunction(X_test, X_training, K)\n",
    "        #print(\"round numero \" + str(m) + \"de la CV is done!\")\n",
    "    print(\"pour K= \" + str(K)+ \"le return est \" + str(knn_fct_return))\n",
    "    mean_de_knn_list= np.mean(knn_fct_return)\n",
    "    print(mean_de_knn_list)\n",
    "\n",
    "    mean_knn.append(mean_de_knn_list)\n",
    "\n",
    "#print(mean_knn)\n",
    "    \n",
    "\n"
   ]
  },
  {
   "cell_type": "code",
   "execution_count": 164,
   "metadata": {
    "collapsed": false
   },
   "outputs": [
    {
     "data": {
      "text/plain": [
       "[<matplotlib.lines.Line2D at 0x114c06d8>]"
      ]
     },
     "execution_count": 164,
     "metadata": {},
     "output_type": "execute_result"
    },
    {
     "data": {
      "image/png": "[encoded data removed]",
      "text/plain": [
       "<matplotlib.figure.Figure at 0x12bf9dd8>"
      ]
     },
     "metadata": {},
     "output_type": "display_data"
    }
   ],
   "source": [
    "k_value= range(1, 15, 1)\n",
    "plt.plot(k_value, mean_knn)"
   ]
  },
  {
   "cell_type": "code",
   "execution_count": 165,
   "metadata": {
    "collapsed": false
   },
   "outputs": [
    {
     "name": "stdout",
     "output_type": "stream",
     "text": [
      "the performance with optimal K is 0.125786163522\n"
     ]
    }
   ],
   "source": [
    "result_CV_knn= sorted(enumerate(mean_knn), key=lambda x: x[1])[0]\n",
    "\n",
    "#print(ty\n",
    "#pe(lambda_value))\n",
    "#print(lambda_value[0][1])\n",
    "#print(\"the optimal value for K is \" + str(k_value[0][1]))\n",
    "\n",
    "print(\"the performance with optimal K is \" + str(result_CV_knn[1]*100))"
   ]
  },
  {
   "cell_type": "markdown",
   "metadata": {},
   "source": [
    "The result is false, there might be a problem in the execution of the cross validation. "
   ]
  },
  {
   "cell_type": "markdown",
   "metadata": {},
   "source": [
    "The performance seems to be more or less equals for each of the 3 methods, but the results seems to be more consistent for the classification methods, since we are using discreete targets."
   ]
  },
  {
   "cell_type": "code",
   "execution_count": null,
   "metadata": {
    "collapsed": true
   },
   "outputs": [],
   "source": []
  }
 ],
 "metadata": {
  "kernelspec": {
   "display_name": "Python 2",
   "language": "python",
   "name": "python2"
  },
  "language_info": {
   "codemirror_mode": {
    "name": "ipython",
    "version": 2
   },
   "file_extension": ".py",
   "mimetype": "text/x-python",
   "name": "python",
   "nbconvert_exporter": "python",
   "pygments_lexer": "ipython2",
   "version": "2.7.11"
  }
 },
 "nbformat": 4,
 "nbformat_minor": 0
}
